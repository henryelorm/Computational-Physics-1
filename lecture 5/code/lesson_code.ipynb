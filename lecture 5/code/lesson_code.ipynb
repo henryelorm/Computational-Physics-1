{
 "cells": [
  {
   "cell_type": "markdown",
   "metadata": {},
   "source": [
    "## AVL Trees"
   ]
  },
  {
   "cell_type": "code",
   "execution_count": 2,
   "metadata": {},
   "outputs": [],
   "source": [
    "# avl implementation\n",
    "\n",
    "class TreeNode:\n",
    "    def __init__(self, data):\n",
    "        self.data = data\n",
    "        self.left = None\n",
    "        self.right = None\n",
    "        self.height = 1"
   ]
  },
  {
   "cell_type": "code",
   "execution_count": 4,
   "metadata": {},
   "outputs": [],
   "source": [
    "def get_height(node):\n",
    "    if not node:\n",
    "        return 0\n",
    "    return node.height"
   ]
  },
  {
   "cell_type": "code",
   "execution_count": 5,
   "metadata": {},
   "outputs": [],
   "source": [
    "def get_balance(node):\n",
    "    if not node:\n",
    "        return 0\n",
    "    return get_height(node.left) - get_height(node.right)\n"
   ]
  },
  {
   "cell_type": "code",
   "execution_count": 8,
   "metadata": {},
   "outputs": [],
   "source": [
    "# the rotations\n",
    "\n",
    "def right_rotate(y):\n",
    "    print('Rotate right on node',y.data)\n",
    "    x = y.left\n",
    "    T2 = x.right\n",
    "    x.right = y\n",
    "    y.left = T2\n",
    "    y.height = 1 + max(get_height(y.left), get_height(y.right))\n",
    "    x.height = 1 + max(get_height(x.left), get_height(x.right))\n",
    "    return x\n",
    "\n",
    "\n",
    "def left_rotate(x):\n",
    "    print('Rotate left on node',x.data)\n",
    "    y = x.right\n",
    "    T2 = y.left\n",
    "    y.left = x\n",
    "    x.right = T2\n",
    "    x.height = 1 + max(get_height(x.left), get_height(x.right))\n",
    "    y.height = 1 + max(get_height(y.left), get_height(y.right))\n",
    "    return y\n"
   ]
  },
  {
   "cell_type": "code",
   "execution_count": 9,
   "metadata": {},
   "outputs": [],
   "source": [
    "def insert(node, data):\n",
    "    if not node:\n",
    "        return TreeNode(data)\n",
    "\n",
    "    if data < node.data:\n",
    "        node.left = insert(node.left, data)\n",
    "    elif data > node.data:\n",
    "        node.right = insert(node.right, data)\n",
    "\n",
    "    # Update the balance factor and balance the tree\n",
    "    node.height = 1 + max(get_height(node.left), get_height(node.right))\n",
    "    balance = get_balance(node)\n",
    "\n",
    "    # Balancing the tree\n",
    "    # Left Left\n",
    "    if balance > 1 and get_balance(node.left) >= 0:\n",
    "        return right_rotate(node)\n",
    "\n",
    "    # Left Right\n",
    "    if balance > 1 and get_balance(node.left) < 0:\n",
    "        node.left = left_rotate(node.left)\n",
    "        return right_rotate(node)\n",
    "\n",
    "    # Right Right\n",
    "    if balance < -1 and get_balance(node.right) <= 0:\n",
    "        return left_rotate(node)\n",
    "\n",
    "    # Right Left\n",
    "    if balance < -1 and get_balance(node.right) > 0:\n",
    "        node.right = right_rotate(node.right)\n",
    "        return left_rotate(node)\n",
    "\n",
    "    return node"
   ]
  },
  {
   "cell_type": "code",
   "execution_count": 10,
   "metadata": {},
   "outputs": [
    {
     "name": "stdout",
     "output_type": "stream",
     "text": [
      "Rotate right on node H\n",
      "A, B, C, D, E, F, G, H, "
     ]
    }
   ],
   "source": [
    "def in_order_traversal(node):\n",
    "    if node is None:\n",
    "        return\n",
    "    in_order_traversal(node.left)\n",
    "    print(node.data, end=\", \")\n",
    "    in_order_traversal(node.right)\n",
    "\n",
    "# Inserting nodes\n",
    "root = None\n",
    "letters = ['C', 'B', 'E', 'A', 'D', 'H', 'G', 'F']\n",
    "for letter in letters:\n",
    "    root = insert(root, letter)\n",
    "\n",
    "in_order_traversal(root)"
   ]
  },
  {
   "cell_type": "markdown",
   "metadata": {},
   "source": [
    "### Dijkstra's Algorithm"
   ]
  },
  {
   "cell_type": "code",
   "execution_count": 11,
   "metadata": {},
   "outputs": [],
   "source": [
    "class Graph:\n",
    "    def __init__(self, size):\n",
    "        self.adj_matrix = [[0] * size for _ in range(size)]\n",
    "        self.size = size\n",
    "        self.vertex_data = [''] * size\n",
    "\n",
    "    def add_edge(self, u, v, weight):\n",
    "        if 0 <= u < self.size and 0 <= v < self.size:\n",
    "            self.adj_matrix[u][v] = weight\n",
    "            self.adj_matrix[v][u] = weight  # For undirected graph\n",
    "\n",
    "    def add_vertex_data(self, vertex, data):\n",
    "        if 0 <= vertex < self.size:\n",
    "            self.vertex_data[vertex] = data\n",
    "\n",
    "    def dijkstra(self, start_vertex_data):\n",
    "        start_vertex = self.vertex_data.index(start_vertex_data)\n",
    "        distances = [float('inf')] * self.size\n",
    "        distances[start_vertex] = 0\n",
    "        visited = [False] * self.size\n",
    "\n",
    "        for _ in range(self.size):\n",
    "            min_distance = float('inf')\n",
    "            u = None\n",
    "            for i in range(self.size):\n",
    "                if not visited[i] and distances[i] < min_distance:\n",
    "                    min_distance = distances[i]\n",
    "                    u = i\n",
    "\n",
    "            if u is None:\n",
    "                break\n",
    "\n",
    "            visited[u] = True\n",
    "\n",
    "            for v in range(self.size):\n",
    "                if self.adj_matrix[u][v] != 0 and not visited[v]:\n",
    "                    alt = distances[u] + self.adj_matrix[u][v]\n",
    "                    if alt < distances[v]:\n",
    "                        distances[v] = alt\n",
    "\n",
    "        return distances\n"
   ]
  },
  {
   "cell_type": "code",
   "execution_count": 12,
   "metadata": {},
   "outputs": [
    {
     "name": "stdout",
     "output_type": "stream",
     "text": [
      "Dijkstra's Algorithm starting from vertex D:\n",
      "\n",
      "Shortest distance from D to A: 4\n",
      "Shortest distance from D to B: 8\n",
      "Shortest distance from D to C: 6\n",
      "Shortest distance from D to D: 0\n",
      "Shortest distance from D to E: 2\n",
      "Shortest distance from D to F: 10\n",
      "Shortest distance from D to G: 7\n"
     ]
    }
   ],
   "source": [
    "g = Graph(7)\n",
    "\n",
    "g.add_vertex_data(0, 'A')\n",
    "g.add_vertex_data(1, 'B')\n",
    "g.add_vertex_data(2, 'C')\n",
    "g.add_vertex_data(3, 'D')\n",
    "g.add_vertex_data(4, 'E')\n",
    "g.add_vertex_data(5, 'F')\n",
    "g.add_vertex_data(6, 'G')\n",
    "\n",
    "g.add_edge(3, 0, 4)  # D - A, weight 5\n",
    "g.add_edge(3, 4, 2)  # D - E, weight 2\n",
    "g.add_edge(0, 2, 3)  # A - C, weight 3\n",
    "g.add_edge(0, 4, 4)  # A - E, weight 4\n",
    "g.add_edge(4, 2, 4)  # E - C, weight 4\n",
    "g.add_edge(4, 6, 5)  # E - G, weight 5\n",
    "g.add_edge(2, 5, 5)  # C - F, weight 5\n",
    "g.add_edge(2, 1, 2)  # C - B, weight 2\n",
    "g.add_edge(1, 5, 2)  # B - F, weight 2\n",
    "g.add_edge(6, 5, 5)  # G - F, weight 5\n",
    "\n",
    "# Dijkstra's algorithm from D to all vertices\n",
    "print(\"Dijkstra's Algorithm starting from vertex D:\\n\")\n",
    "distances = g.dijkstra('D')\n",
    "for i, d in enumerate(distances):\n",
    "    print(f\"Shortest distance from D to {g.vertex_data[i]}: {d}\")\n",
    "\n"
   ]
  },
  {
   "cell_type": "markdown",
   "metadata": {},
   "source": [
    "### Bellman-Ford Algorithm"
   ]
  },
  {
   "cell_type": "code",
   "execution_count": 13,
   "metadata": {},
   "outputs": [
    {
     "name": "stdout",
     "output_type": "stream",
     "text": [
      "\n",
      "The Bellman-Ford Algorithm starting from vertex D:\n",
      "Relaxing edge D->A, Updated distance to A: 4\n",
      "Relaxing edge D->C, Updated distance to C: 7\n",
      "Relaxing edge D->E, Updated distance to E: 3\n",
      "Relaxing edge E->B, Updated distance to B: 5\n",
      "Relaxing edge E->C, Updated distance to C: 6\n",
      "Relaxing edge B->C, Updated distance to C: 1\n",
      "Relaxing edge C->A, Updated distance to A: -2\n",
      "Distance from D to A: -2\n",
      "Distance from D to B: 5\n",
      "Distance from D to C: 1\n",
      "Distance from D to D: 0\n",
      "Distance from D to E: 3\n"
     ]
    }
   ],
   "source": [
    "class Graph:\n",
    "    def __init__(self, size):\n",
    "        self.adj_matrix = [[0] * size for _ in range(size)]\n",
    "        self.size = size\n",
    "        self.vertex_data = [''] * size\n",
    "\n",
    "    def add_edge(self, u, v, weight):\n",
    "        if 0 <= u < self.size and 0 <= v < self.size:\n",
    "            self.adj_matrix[u][v] = weight\n",
    "            #self.adj_matrix[v][u] = weight  # For undirected graph\n",
    "\n",
    "    def add_vertex_data(self, vertex, data):\n",
    "        if 0 <= vertex < self.size:\n",
    "            self.vertex_data[vertex] = data\n",
    "\n",
    "    def bellman_ford(self, start_vertex_data):\n",
    "        start_vertex = self.vertex_data.index(start_vertex_data)\n",
    "        distances = [float('inf')] * self.size\n",
    "        distances[start_vertex] = 0\n",
    "\n",
    "        for i in range(self.size - 1):\n",
    "            for u in range(self.size):\n",
    "                for v in range(self.size):\n",
    "                    if self.adj_matrix[u][v] != 0:\n",
    "                        if distances[u] + self.adj_matrix[u][v] < distances[v]:\n",
    "                            distances[v] = distances[u] + self.adj_matrix[u][v]\n",
    "                            print(f\"Relaxing edge {self.vertex_data[u]}->{self.vertex_data[v]}, Updated distance to {self.vertex_data[v]}: {distances[v]}\")\n",
    "\n",
    "        return distances\n",
    "\n",
    "g = Graph(5)\n",
    "\n",
    "g.add_vertex_data(0, 'A')\n",
    "g.add_vertex_data(1, 'B')\n",
    "g.add_vertex_data(2, 'C')\n",
    "g.add_vertex_data(3, 'D')\n",
    "g.add_vertex_data(4, 'E')\n",
    "\n",
    "g.add_edge(3, 0, 4)  # D -> A, weight 4\n",
    "g.add_edge(3, 2, 7)  # D -> C, weight 7\n",
    "g.add_edge(3, 4, 3)  # D -> E, weight 3\n",
    "g.add_edge(0, 2, 4)  # A -> C, weight 4\n",
    "g.add_edge(2, 0, -3) # C -> A, weight -3\n",
    "g.add_edge(0, 4, 5)  # A -> E, weight 5\n",
    "g.add_edge(4, 2, 3)  # E -> C, weight 3\n",
    "g.add_edge(1, 2, -4) # B -> C, weight -4\n",
    "g.add_edge(4, 1, 2)  # E -> B, weight 2\n",
    "\n",
    "# Running the Bellman-Ford algorithm from D to all vertices\n",
    "print(\"\\nThe Bellman-Ford Algorithm starting from vertex D:\")\n",
    "distances = g.bellman_ford('D')\n",
    "for i, d in enumerate(distances):\n",
    "    print(f\"Distance from D to {g.vertex_data[i]}: {d}\")\n",
    "    \n",
    "#Python"
   ]
  }
 ],
 "metadata": {
  "kernelspec": {
   "display_name": "base",
   "language": "python",
   "name": "python3"
  },
  "language_info": {
   "codemirror_mode": {
    "name": "ipython",
    "version": 3
   },
   "file_extension": ".py",
   "mimetype": "text/x-python",
   "name": "python",
   "nbconvert_exporter": "python",
   "pygments_lexer": "ipython3",
   "version": "3.12.4"
  }
 },
 "nbformat": 4,
 "nbformat_minor": 2
}
