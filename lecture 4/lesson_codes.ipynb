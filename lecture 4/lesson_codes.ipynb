{
 "cells": [
  {
   "cell_type": "markdown",
   "metadata": {},
   "source": [
    "Recursion and Backtracking\n",
    "---------------------------"
   ]
  },
  {
   "cell_type": "markdown",
   "metadata": {},
   "source": [
    "* Definition: Recursion is a process where a function calls itself to solve a problem.\n",
    "\n",
    "* Base Case and Recursive Case:\n",
    "\n",
    "    * Base Case: The condition to stop recursion. If there is no base case, the function will run infinitely, causing a stack overflow.\n",
    "\n",
    "    * Recursive Case: The function calls itself with a modified parameter, reducing the problem size in each step."
   ]
  },
  {
   "cell_type": "code",
   "execution_count": 4,
   "metadata": {},
   "outputs": [
    {
     "data": {
      "text/plain": [
       "24"
      ]
     },
     "execution_count": 4,
     "metadata": {},
     "output_type": "execute_result"
    }
   ],
   "source": [
    "def factorial(n):\n",
    "    if n == 0:\n",
    "        return 1  # this is the base case\n",
    "\n",
    "    return n * factorial(n-1)\n",
    "\n",
    "\n",
    "factorial(4)\n",
    "\n",
    "# compare time complexity with iterative method"
   ]
  },
  {
   "cell_type": "markdown",
   "metadata": {},
   "source": [
    "* Why Use Recursion?\n",
    "\n",
    "  * Simplifies problems like tree traversal, searching, and mathematical computations.\n",
    "\n",
    "  * Helps in implementing divide and conquer algorithms."
   ]
  },
  {
   "cell_type": "markdown",
   "metadata": {},
   "source": [
    "#### Understanding the Call Stack"
   ]
  },
  {
   "cell_type": "markdown",
   "metadata": {},
   "source": [
    "* Recursion uses the call stack to store function calls.\n",
    "\n",
    "* Each recursive call adds a new stack frame until the base case is reached.\n",
    "\n",
    "* Once the base case is met, the function starts returning values back up the call stack."
   ]
  },
  {
   "cell_type": "markdown",
   "metadata": {},
   "source": [
    "Example: How recursion computes factorial(4) step by step.\n",
    "\n",
    "1. factorial(4) calls factorial(3)\n",
    "\n",
    "2. factorial(3) calls factorial(2)\n",
    "\n",
    "3. factorial(2) calls factorial(1)\n",
    "\n",
    "4. factorial(1) calls factorial(0), which returns 1\n",
    "\n",
    "The results are then multiplied back up the stack."
   ]
  },
  {
   "cell_type": "markdown",
   "metadata": {},
   "source": [
    "<img src=\"data/factorial_recursion.png\" style=\"height:400px; width:600px\" />"
   ]
  },
  {
   "cell_type": "markdown",
   "metadata": {},
   "source": [
    "Example of problems solved with Recursions: \n",
    "\n",
    "* Factorial Calculation: Computing n! using recursion.\n",
    "\n",
    "* Fibonacci Sequence: Computing the nth Fibonacci number.\n",
    "\n",
    "* Tower of Hanoi: Moving disks between rods following constraints.\n",
    "\n",
    "* Tree and Graph Traversal: Depth-First Search (DFS) and Breadth-First Search (BFS)."
   ]
  },
  {
   "cell_type": "markdown",
   "metadata": {},
   "source": [
    "What is Backtracking?\n",
    "----------------------"
   ]
  },
  {
   "cell_type": "markdown",
   "metadata": {},
   "source": [
    "* Definition: Backtracking is a recursive approach used to solve constraint \n",
    "satisfaction problems by exploring all possible solutions and discarding invalid ones."
   ]
  },
  {
   "cell_type": "markdown",
   "metadata": {},
   "source": [
    "* Key Idea:\n",
    "\n",
    "  * Try a solution.\n",
    "\n",
    "  * If it doesn’t work, backtrack and try another.\n",
    "\n",
    "  * This technique is commonly used in decision-making problems."
   ]
  },
  {
   "cell_type": "markdown",
   "metadata": {},
   "source": [
    "* Applications:\n",
    "\n",
    "    * N-Queens Problem (placing queens on a chessboard)\n",
    "\n",
    "    * Sudoku Solver (filling numbers in a 9x9 grid)\n",
    "\n",
    "    * Maze Solving (finding a path from start to end)\n",
    "\n",
    "    * The Knapsack Problem\n",
    "    \n",
    "    * Hamiltonian Cycles (in Graph)"
   ]
  },
  {
   "cell_type": "markdown",
   "metadata": {},
   "source": [
    "Example - Maze Solving Using Backtracking"
   ]
  },
  {
   "cell_type": "markdown",
   "metadata": {},
   "source": [
    "* Problem: Find a path from start to end in a maze where some cells are blocked.\n",
    "\n",
    "* Approach:\n",
    "\n",
    "    1. Move in a direction (down, right, up, left).\n",
    "\n",
    "    2. If blocked, backtrack and try another direction.\n",
    "\n",
    "    3. If the destination is reached, return success.\n",
    "\n"
   ]
  },
  {
   "cell_type": "code",
   "execution_count": 5,
   "metadata": {},
   "outputs": [
    {
     "data": {
      "text/plain": [
       "False"
      ]
     },
     "execution_count": 5,
     "metadata": {},
     "output_type": "execute_result"
    }
   ],
   "source": [
    "def solve_maze(maze, x, y, solution):\n",
    "    if x == len(maze) - 1 and y == len(maze[0]) - 1:\n",
    "        solution[x][y] = 1\n",
    "        return True\n",
    "    if 0 <= x < len(maze) and 0 <= y < len(maze[0]) and maze[x][y] == 1:\n",
    "        solution[x][y] = 1\n",
    "        if solve_maze(maze, x + 1, y, solution) or solve_maze(maze, x, y + 1, solution):\n",
    "            return True\n",
    "        solution[x][y] = 0  # Backtrack\n",
    "    return False\n",
    "\n",
    "maze = [\n",
    "    [1, 0, 1, 1],\n",
    "    [1, 1, 1, 0],\n",
    "    [0, 1, 0, 1],\n",
    "    [1, 1, 1, 1]\n",
    "]\n",
    "solution = [[0 for _ in range(len(maze[0]))] for _ in range(len(maze))]\n",
    "\n",
    "\n",
    "solve_maze(maze, 0, 1, solution)"
   ]
  },
  {
   "cell_type": "markdown",
   "metadata": {},
   "source": [
    "#### When to Use Recursion and Backtracking?"
   ]
  },
  {
   "cell_type": "markdown",
   "metadata": {},
   "source": [
    "* When to Use Recursion?\n",
    "\n",
    "    * When the problem can be broken down into smaller similar subproblems.\n",
    "\n",
    "    * When implementing divide and conquer algorithms like Merge Sort and Quick Sort.\n",
    "\n",
    "    * When solving problems that naturally fit a recursive approach, such as tree traversals.\n",
    "\n",
    "* When to Use Backtracking?\n",
    "\n",
    "    * When there are multiple possible solutions.\n",
    "\n",
    "    * When constraints need to be satisfied (N-Queens, Sudoku, Hamiltonian Cycles).\n",
    "\n",
    "    * When exhaustive search is needed but can be optimized by pruning invalid options."
   ]
  },
  {
   "cell_type": "markdown",
   "metadata": {},
   "source": [
    "Linked Lists\n",
    "-----------------"
   ]
  },
  {
   "cell_type": "markdown",
   "metadata": {},
   "source": [
    "A Linked List is, as the word implies, a list where the nodes are linked together. Each node contains data and a pointer. The way they are linked together is that each node points to where in the memory the next node is placed."
   ]
  },
  {
   "cell_type": "markdown",
   "metadata": {},
   "source": [
    "<img src=\"data/img_linkedlists_singly.svg\" />"
   ]
  },
  {
   "cell_type": "markdown",
   "metadata": {},
   "source": [
    "* Properties:\n",
    "\n",
    "    * Successive elements are connected by pointers.\n",
    "\n",
    "    * The last element points to NULL.\n",
    "\n",
    "    * Can dynamically grow or shrink in size.\n",
    "\n",
    "    * Does not waste memory space but requires extra memory for pointers."
   ]
  },
  {
   "cell_type": "markdown",
   "metadata": {},
   "source": [
    "* Why Use Linked Lists?\n",
    "\n",
    "    * Useful for dynamic memory allocation.\n",
    "\n",
    "    * More efficient than arrays for insertion and deletion operations."
   ]
  },
  {
   "cell_type": "markdown",
   "metadata": {},
   "source": [
    "Comparison of Linked List  and Arrays"
   ]
  },
  {
   "cell_type": "markdown",
   "metadata": {},
   "source": [
    "<table class=\"table-all notranslate\">\n",
    "  <tbody><tr>\n",
    "    <th></th>\n",
    "    <th style=\"width: 20%;\">Arrays</th>\n",
    "    <th style=\"width: 20%;\">Linked Lists</th>\n",
    "  </tr>  \n",
    "  <tr>\n",
    "    <td><i>An existing data structure in the programming language</i></td>\n",
    "    <td>Yes</td>\n",
    "    <td>No</td>\n",
    "  </tr>\n",
    "  <tr>\n",
    "    <td><i>Fixed size in memory</i></td>\n",
    "    <td>Yes</td>\n",
    "    <td>No</td>\n",
    "  </tr>\n",
    "  <tr>\n",
    "    <td><i>Elements, or nodes, are stored right after each other in memory (contiguously)</i></td>\n",
    "    <td>Yes</td>\n",
    "    <td>No</td>\n",
    "  </tr>\n",
    "  <tr>\n",
    "    <td><i>Memory usage is low <br>(each node only contains data, no links to other nodes)</i></td>\n",
    "    <td>Yes</td>\n",
    "    <td>No</td>\n",
    "  </tr>\n",
    "  <tr>\n",
    "    <td><i>Elements, or nodes, can be accessed directly (random access)</i></td>\n",
    "    <td>Yes</td>\n",
    "    <td>No</td>\n",
    "  </tr>\n",
    "  <tr>\n",
    "    <td><i>Elements, or nodes, can be inserted or deleted in constant time, no shifting operations in memory needed.</i></td>\n",
    "    <td>No</td>\n",
    "    <td>Yes</td>\n",
    "    </tr>\n",
    "    <tr>\n",
    "    <td><i>Access Time</i></td>\n",
    "    <td>O(1) (random)</td>\n",
    "    <td>O(n) (sequential)</td>\n",
    "    </tr>\n",
    "  \n",
    "</tbody></table>"
   ]
  },
  {
   "cell_type": "markdown",
   "metadata": {},
   "source": [
    "### Advantages and Disadvantages of Linked Lists"
   ]
  },
  {
   "cell_type": "markdown",
   "metadata": {},
   "source": [
    "Advantages\n",
    "* Dynamic size allocation.\n",
    "\n",
    "* Efficient insertions and deletions.\n",
    "\n",
    "* No wasted memory due to fixed-size allocations."
   ]
  },
  {
   "cell_type": "markdown",
   "metadata": {},
   "source": [
    "Disadvantages:\n",
    "\n",
    "* More memory usage due to pointer storage.\n",
    "\n",
    "* Sequential access makes searching slower compared to arrays.\n",
    "\n",
    "* More complex implementation than arrays."
   ]
  },
  {
   "cell_type": "markdown",
   "metadata": {},
   "source": [
    "### Applications of Linked List"
   ]
  },
  {
   "cell_type": "markdown",
   "metadata": {},
   "source": [
    "* Implementation of stacks and queues\n",
    "\n",
    "* Graph adjacency list representation\n",
    "\n",
    "* Memory management in operating systems\n",
    "\n",
    "* Undo functionality in applications"
   ]
  },
  {
   "cell_type": "markdown",
   "metadata": {},
   "source": [
    "### Types of Linked Lists"
   ]
  },
  {
   "cell_type": "markdown",
   "metadata": {},
   "source": [
    "* Singly Linked List: Each node contains data and a pointer to the next node.\n",
    "\n",
    "\n"
   ]
  },
  {
   "cell_type": "code",
   "execution_count": 6,
   "metadata": {},
   "outputs": [],
   "source": [
    "class Node:\n",
    "    def __init__(self, data):\n",
    "        self.data = data\n",
    "        self.next = None\n",
    "    "
   ]
  },
  {
   "cell_type": "code",
   "execution_count": 7,
   "metadata": {},
   "outputs": [],
   "source": [
    "node1 = Node(3)\n",
    "node2 = Node(5)\n",
    "node3 = Node(13)\n",
    "node4 = Node(2)\n",
    "\n",
    "node1.next = node2\n",
    "node2.next = node3\n",
    "node3.next = node4\n",
    "# node4.next = node1\n",
    "\n"
   ]
  },
  {
   "cell_type": "code",
   "execution_count": 8,
   "metadata": {},
   "outputs": [
    {
     "name": "stdout",
     "output_type": "stream",
     "text": [
      "3 -> 5 -> 13 -> 2 -> null\n"
     ]
    }
   ],
   "source": [
    "currentNode = node1\n",
    "while currentNode:\n",
    "    print(currentNode.data, end=\" -> \")\n",
    "    currentNode = currentNode.next\n",
    "print(\"null\")"
   ]
  },
  {
   "cell_type": "markdown",
   "metadata": {},
   "source": [
    "* Doubly Linked List: Each node contains data, a pointer to the next node, and a pointer to the previous node. This takes up more memory.\n",
    "\n",
    "<img src=\"data/img_linkedlists_doubly.svg\" />"
   ]
  },
  {
   "cell_type": "code",
   "execution_count": 9,
   "metadata": {},
   "outputs": [],
   "source": [
    "class Node:\n",
    "    def __init__(self, data):\n",
    "        self.data = data\n",
    "        self.next = None\n",
    "        self.prev = None"
   ]
  },
  {
   "cell_type": "code",
   "execution_count": 10,
   "metadata": {},
   "outputs": [],
   "source": [
    "node1 = Node(5)\n",
    "node2 = Node(12)\n",
    "node3 = Node(45)\n",
    "node4 = Node(2)"
   ]
  },
  {
   "cell_type": "code",
   "execution_count": 11,
   "metadata": {},
   "outputs": [],
   "source": [
    "node1.next = node2\n",
    "\n",
    "node2.prev = node1\n",
    "node2.next = node3\n",
    "\n",
    "node3.prev = node2\n",
    "node3.next = node4\n",
    "\n",
    "node4.prev = node3\n"
   ]
  },
  {
   "cell_type": "code",
   "execution_count": 12,
   "metadata": {},
   "outputs": [
    {
     "name": "stdout",
     "output_type": "stream",
     "text": [
      "\n",
      "Traversing forward:\n",
      "5 -> 12 -> 45 -> 2 -> null\n"
     ]
    }
   ],
   "source": [
    "print(\"\\nTraversing forward:\")\n",
    "currentNode = node1\n",
    "while currentNode:\n",
    "    print(currentNode.data, end=\" -> \")\n",
    "    currentNode = currentNode.next\n",
    "print(\"null\")"
   ]
  },
  {
   "cell_type": "code",
   "execution_count": 13,
   "metadata": {},
   "outputs": [
    {
     "name": "stdout",
     "output_type": "stream",
     "text": [
      "\n",
      "Traversing backward:\n",
      "2 -> 45 -> 12 -> 5 -> null\n"
     ]
    }
   ],
   "source": [
    "print(\"\\nTraversing backward:\")\n",
    "currentNode = node4\n",
    "while currentNode:\n",
    "    print(currentNode.data, end=\" -> \")\n",
    "    currentNode = currentNode.prev\n",
    "print(\"null\")"
   ]
  },
  {
   "cell_type": "markdown",
   "metadata": {},
   "source": [
    "* Circular Linked List: The last node points back to the first node, forming a circular structure.\n",
    "\n",
    "<img src=\"data/img_linkedlists_circsingly.svg\" />\n"
   ]
  },
  {
   "cell_type": "markdown",
   "metadata": {},
   "source": [
    "Circular Doubly Linked List Implementation\n",
    "\n",
    "<img src=\"data/img_linkedlists_circdoubly.svg\" />"
   ]
  },
  {
   "cell_type": "code",
   "execution_count": 14,
   "metadata": {},
   "outputs": [
    {
     "name": "stdout",
     "output_type": "stream",
     "text": [
      "\n",
      "Traversing forward:\n",
      "3 -> 5 -> 13 -> 2 -> ...\n",
      "\n",
      "Traversing backward:\n",
      "2 -> 13 -> 5 -> 3 -> ...\n"
     ]
    }
   ],
   "source": [
    "class Node:\n",
    "    def __init__(self, data):\n",
    "        self.data = data\n",
    "        self.next = None\n",
    "        self.prev = None\n",
    "\n",
    "node1 = Node(3)\n",
    "node2 = Node(5)\n",
    "node3 = Node(13)\n",
    "node4 = Node(2)\n",
    "\n",
    "node1.next = node2\n",
    "node1.prev = node4\n",
    "\n",
    "node2.prev = node1\n",
    "node2.next = node3\n",
    "\n",
    "node3.prev = node2\n",
    "node3.next = node4\n",
    "\n",
    "node4.prev = node3\n",
    "node4.next = node1\n",
    "\n",
    "print(\"\\nTraversing forward:\")\n",
    "currentNode = node1\n",
    "startNode = node1\n",
    "print(currentNode.data, end=\" -> \")\n",
    "currentNode = currentNode.next\n",
    "\n",
    "while currentNode != startNode:\n",
    "    print(currentNode.data, end=\" -> \")\n",
    "    currentNode = currentNode.next\n",
    "print(\"...\")\n",
    "\n",
    "print(\"\\nTraversing backward:\")\n",
    "currentNode = node4\n",
    "startNode = node4\n",
    "print(currentNode.data, end=\" -> \")\n",
    "currentNode = currentNode.prev\n",
    "\n",
    "while currentNode != startNode:\n",
    "    print(currentNode.data, end=\" -> \")\n",
    "    currentNode = currentNode.prev\n",
    "print(\"...\")"
   ]
  },
  {
   "cell_type": "markdown",
   "metadata": {},
   "source": [
    "### Linked Lists Operations\n",
    "* Traversal\n",
    "* Remove a node\n",
    "* Insert a node\n",
    "* Sort"
   ]
  },
  {
   "cell_type": "markdown",
   "metadata": {},
   "source": [
    "Stacks\n",
    "----------"
   ]
  },
  {
   "cell_type": "markdown",
   "metadata": {},
   "source": [
    "A stack is a data structure that can hold many elements.\n",
    "\n",
    "In a pile of pancakes, the pancakes are both added and removed from the top. So when removing a pancake, it will always be the last pancake you added. This way of organizing elements is called LIFO: Last In First Out.\n",
    "\n",
    "Basic operations we can do on a stack are:\n",
    "\n",
    "* Push: Adds a new element on the stack.\n",
    "* Pop: Removes and returns the top element from the stack.\n",
    "* Peek: Returns the top element on the stack.\n",
    "* isEmpty: Checks if the stack is empty.\n",
    "* Size: Finds the number of elements in the stack.\n",
    "* Experiment with these basic operations in the stack animation above.\n",
    "\n",
    "Stacks can be implemented by using arrays or linked lists.\n",
    "\n",
    "Stacks can be used to implement undo mechanisms, to revert to previous states, to create algorithms for depth-first search in graphs, or for backtracking.\n",
    "\n",
    "Stacks are often mentioned together with Queues."
   ]
  },
  {
   "cell_type": "code",
   "execution_count": 15,
   "metadata": {},
   "outputs": [
    {
     "name": "stdout",
     "output_type": "stream",
     "text": [
      "Stack:  ['A', 'B', 'C']\n",
      "Pop:  C\n",
      "Peek:  B\n",
      "isEmpty:  False\n",
      "Size:  2\n"
     ]
    }
   ],
   "source": [
    "#  using arrays to implement stacks\n",
    "\n",
    "class Stack:\n",
    "    def __init__(self):\n",
    "        self.stack = []\n",
    "    \n",
    "    def push(self, element):\n",
    "        self.stack.append(element)\n",
    "    \n",
    "    def pop(self):\n",
    "        if self.isEmpty():\n",
    "            return \"Stack is empty\"\n",
    "        return self.stack.pop()\n",
    "    \n",
    "    def peek(self):\n",
    "        if self.isEmpty():\n",
    "            return \"Stack is empty\"\n",
    "        return self.stack[-1]\n",
    "    \n",
    "    def isEmpty(self):\n",
    "        return len(self.stack) == 0\n",
    "    \n",
    "    def size(self):\n",
    "        return len(self.stack)\n",
    "\n",
    "# Create a stack\n",
    "arr_stack = Stack()\n",
    "\n",
    "arr_stack.push('A')\n",
    "arr_stack.push('B')\n",
    "arr_stack.push('C')\n",
    "print(\"Stack: \", arr_stack.stack)\n",
    "\n",
    "print(\"Pop: \", arr_stack.pop())\n",
    "\n",
    "print(\"Peek: \", arr_stack.peek())\n",
    "\n",
    "print(\"isEmpty: \", arr_stack.isEmpty())\n",
    "\n",
    "print(\"Size: \", arr_stack.size())"
   ]
  },
  {
   "cell_type": "code",
   "execution_count": 16,
   "metadata": {},
   "outputs": [
    {
     "name": "stdout",
     "output_type": "stream",
     "text": [
      "Pop:  C\n",
      "Peek:  B\n",
      "isEmpty:  False\n",
      "Size:  2\n"
     ]
    }
   ],
   "source": [
    "# using linked list\n",
    "\n",
    "class Node:\n",
    "    def __init__(self, value):\n",
    "        self.value = value\n",
    "        self.next = None\n",
    "\n",
    "class Stack:\n",
    "    def __init__(self):\n",
    "        self.head = None\n",
    "        self.size = 0\n",
    "    \n",
    "    def push(self, value):\n",
    "        new_node = Node(value)\n",
    "        if self.head:\n",
    "            new_node.next = self.head\n",
    "        self.head = new_node\n",
    "        self.size += 1\n",
    "    \n",
    "    def pop(self):\n",
    "        if self.isEmpty():\n",
    "            return \"Stack is empty\"\n",
    "        popped_node = self.head\n",
    "        self.head = self.head.next\n",
    "        self.size -= 1\n",
    "        return popped_node.value\n",
    "    \n",
    "    def peek(self):\n",
    "        if self.isEmpty():\n",
    "            return \"Stack is empty\"\n",
    "        return self.head.value\n",
    "    \n",
    "    def isEmpty(self):\n",
    "        return self.size == 0\n",
    "    \n",
    "    def stackSize(self):\n",
    "        return self.size\n",
    "\n",
    "link_list_Stack = Stack()\n",
    "link_list_Stack.push('A')\n",
    "link_list_Stack.push('B')\n",
    "link_list_Stack.push('C')\n",
    "\n",
    "print(\"Pop: \", link_list_Stack.pop())\n",
    "print(\"Peek: \", link_list_Stack.peek())\n",
    "print(\"isEmpty: \", link_list_Stack.isEmpty())\n",
    "print(\"Size: \", link_list_Stack.stackSize())"
   ]
  },
  {
   "cell_type": "markdown",
   "metadata": {},
   "source": [
    "Queues\n",
    "------"
   ]
  },
  {
   "cell_type": "markdown",
   "metadata": {},
   "source": [
    "A queue is a data structure that can hold many elements."
   ]
  },
  {
   "cell_type": "markdown",
   "metadata": {},
   "source": [
    "Think of a queue as people standing in line in a supermarket.\n",
    "\n",
    "The first person to stand in line is also the first who can pay and leave the supermarket. This way of organizing elements is called FIFO: First In First Out.\n",
    "\n",
    "Basic operations we can do on a queue are:\n",
    "\n",
    "* Enqueue: Adds a new element to the queue.\n",
    "* Dequeue: Removes and returns the first (front) element from the queue.\n",
    "* Peek: Returns the first element in the queue.\n",
    "* isEmpty: Checks if the queue is empty.\n",
    "* Size: Finds the number of elements in the queue.\n",
    "\n",
    "Experiment with these basic operations in the queue animation above.\n",
    "\n",
    "Queues can be implemented by using arrays or linked lists.\n",
    "\n",
    "Queues can be used to implement job scheduling for an office printer, order processing for e-tickets, or to create algorithms for breadth-first search in graphs."
   ]
  },
  {
   "cell_type": "code",
   "execution_count": 17,
   "metadata": {},
   "outputs": [
    {
     "name": "stdout",
     "output_type": "stream",
     "text": [
      "Queue:  ['A', 'B', 'C']\n",
      "Dequeue:  A\n",
      "Peek:  B\n",
      "isEmpty:  False\n",
      "Size:  2\n"
     ]
    }
   ],
   "source": [
    "# using array\n",
    "\n",
    "class Queue:\n",
    "    def __init__(self):\n",
    "        self.queue = []\n",
    "    \n",
    "    def enqueue(self, element):\n",
    "        self.queue.append(element)\n",
    "    \n",
    "    def dequeue(self):\n",
    "        if self.isEmpty():\n",
    "            return \"Queue is empty\"\n",
    "        return self.queue.pop(0)\n",
    "    \n",
    "    def peek(self):\n",
    "        if self.isEmpty():\n",
    "            return \"Queue is empty\"\n",
    "        return self.queue[0]\n",
    "    \n",
    "    def isEmpty(self):\n",
    "        return len(self.queue) == 0\n",
    "    \n",
    "    def size(self):\n",
    "        return len(self.queue)\n",
    "\n",
    "# Create a queue\n",
    "arr_queue = Queue()\n",
    "\n",
    "arr_queue.enqueue('A')\n",
    "arr_queue.enqueue('B')\n",
    "arr_queue.enqueue('C')\n",
    "print(\"Queue: \", arr_queue.queue)\n",
    "\n",
    "print(\"Dequeue: \", arr_queue.dequeue())\n",
    "\n",
    "print(\"Peek: \", arr_queue.peek())\n",
    "\n",
    "print(\"isEmpty: \", arr_queue.isEmpty())\n",
    "\n",
    "print(\"Size: \", arr_queue.size())"
   ]
  },
  {
   "cell_type": "markdown",
   "metadata": {},
   "source": [
    "Trees\n",
    "-------"
   ]
  },
  {
   "cell_type": "markdown",
   "metadata": {},
   "source": [
    "A\ttree\tis\ta\tdata\tstructure\tsimilar\tto\ta\tlinked\tlist\tbut\tinstead\tof\teach\tnode\tpointing\tsimply\tto\tthe next\tnode\tin\ta\tlinear\tfashion,\teach\tnode\tpoints\tto\ta\tnumber\tof\tnodes.\tTree\tis\tan\texample\tof\ta\tnon\n",
    "linear\tdata\tstructure.\tA\ttree\tstructure\tis\ta\tway\tof\trepresenting\tthe\thierarchical\tnature\tof\ta\tstructure in\ta\tgraphical\tform\n",
    "\n",
    "\n",
    "<img src=\"data/0002.svg\" style=\"height:700px, width:600px\"/>"
   ]
  },
  {
   "cell_type": "markdown",
   "metadata": {},
   "source": [
    "<img src=\"data/0003.svg\" style=\"height:700px, width:600px\"/>\n",
    "\n",
    "<img src=\"data/0004.svg\" style=\"height:700px, width:600px\"/>"
   ]
  },
  {
   "cell_type": "markdown",
   "metadata": {},
   "source": [
    "<img src=\"data/0005.svg\" style=\"height:700px, width:600px\"/>"
   ]
  },
  {
   "cell_type": "markdown",
   "metadata": {},
   "source": [
    "<img src=\"data/0006.svg\" style=\"height:700px, width:600px\"/>"
   ]
  },
  {
   "cell_type": "markdown",
   "metadata": {},
   "source": [
    "<img src=\"data/0007.svg\" style=\"height:700px, width:600px\"/>"
   ]
  },
  {
   "cell_type": "markdown",
   "metadata": {},
   "source": [
    "<img src=\"data/0008.svg\" style=\"height:700px, width:600px\"/>"
   ]
  },
  {
   "cell_type": "markdown",
   "metadata": {},
   "source": [
    "<img src=\"data/tree_applications1.png\" style=\"height:700px, width:600px\"/>"
   ]
  },
  {
   "cell_type": "markdown",
   "metadata": {},
   "source": [
    "Now, Lets see an example of a Tree in Python"
   ]
  },
  {
   "cell_type": "markdown",
   "metadata": {},
   "source": [
    "<img src=\"data/tree_node_example1.png\" style=\"height:700px, width:600px\"/>"
   ]
  },
  {
   "cell_type": "code",
   "execution_count": 18,
   "metadata": {},
   "outputs": [],
   "source": [
    "class TreeNode:\n",
    "    def __init__(self, data):\n",
    "        self.data = data\n",
    "        self.left = None\n",
    "        self.right = None"
   ]
  },
  {
   "cell_type": "code",
   "execution_count": 19,
   "metadata": {},
   "outputs": [],
   "source": [
    "root = TreeNode('R')\n",
    "nodeA = TreeNode('A')\n",
    "nodeB = TreeNode('B')\n",
    "nodeC = TreeNode('C')\n",
    "nodeD = TreeNode('D')\n",
    "nodeE = TreeNode('E')\n",
    "nodeF = TreeNode('F')\n",
    "nodeG = TreeNode('G')"
   ]
  },
  {
   "cell_type": "code",
   "execution_count": 20,
   "metadata": {},
   "outputs": [
    {
     "name": "stdout",
     "output_type": "stream",
     "text": [
      "root.right.left.data: E\n"
     ]
    }
   ],
   "source": [
    "root.left = nodeA\n",
    "root.right = nodeB\n",
    "\n",
    "nodeA.left = nodeC\n",
    "nodeA.right = nodeD\n",
    "\n",
    "nodeB.left = nodeE\n",
    "nodeB.right = nodeF\n",
    "\n",
    "nodeF.left = nodeG\n",
    "\n",
    "# Test\n",
    "print(\"root.right.left.data:\", root.right.left.data)"
   ]
  },
  {
   "cell_type": "markdown",
   "metadata": {},
   "source": [
    "#### Binary Tree Traversals"
   ]
  },
  {
   "cell_type": "markdown",
   "metadata": {},
   "source": [
    "* Traversal: Visiting all nodes in a tree in a specific order.\n",
    "\n",
    "* Types of Traversals:\n",
    "\n",
    "    1. Depth First Search/Traversal (DFS)\n",
    "\n",
    "        * Pre-order (Root-Left-Right) -> DLR\n",
    "\n",
    "        * In-order (Left-Root-Right)  -> LDR\n",
    "\n",
    "        * Post-order (Left-Right-Root) -> LRD\n",
    "\n",
    "    2. Level Order (Breadth-First Search/Traversal) (BFS)\n"
   ]
  },
  {
   "cell_type": "markdown",
   "metadata": {},
   "source": [
    "#### Depth First Search (DFS)\n",
    "    \n",
    "    Pre-order - DLR"
   ]
  },
  {
   "cell_type": "markdown",
   "metadata": {},
   "source": [
    "<img src=\"data/dfs-dlr.png\" style=\"height:700px, width:600px\"/>"
   ]
  },
  {
   "cell_type": "code",
   "execution_count": 21,
   "metadata": {},
   "outputs": [
    {
     "name": "stdout",
     "output_type": "stream",
     "text": [
      "R, A, C, D, B, E, F, G, "
     ]
    }
   ],
   "source": [
    "def pre_order_traversal(node):\n",
    "    if node is None:\n",
    "        return\n",
    "    print(node.data, end=\", \")\n",
    "    pre_order_traversal(node.left)\n",
    "    pre_order_traversal(node.right)\n",
    "\n",
    "pre_order_traversal(root)"
   ]
  },
  {
   "cell_type": "markdown",
   "metadata": {},
   "source": [
    "##### In-order - LDR"
   ]
  },
  {
   "cell_type": "code",
   "execution_count": 22,
   "metadata": {},
   "outputs": [
    {
     "name": "stdout",
     "output_type": "stream",
     "text": [
      "C, A, D, R, E, B, G, F, "
     ]
    }
   ],
   "source": [
    "def in_order_traversal(node):\n",
    "    if node is None:\n",
    "        return\n",
    "    in_order_traversal(node.left)\n",
    "    print(node.data, end=\", \")\n",
    "    in_order_traversal(node.right)\n",
    "\n",
    "in_order_traversal(root)"
   ]
  },
  {
   "cell_type": "markdown",
   "metadata": {},
   "source": [
    "##### post-order - LDR"
   ]
  },
  {
   "cell_type": "code",
   "execution_count": 23,
   "metadata": {},
   "outputs": [
    {
     "name": "stdout",
     "output_type": "stream",
     "text": [
      "C, D, A, E, G, F, B, R, "
     ]
    }
   ],
   "source": [
    "def post_order_traversal(node):\n",
    "    if node is None:\n",
    "        return\n",
    "    post_order_traversal(node.left)\n",
    "    post_order_traversal(node.right)\n",
    "    print(node.data, end=\", \")\n",
    "\n",
    "post_order_traversal(root)"
   ]
  },
  {
   "cell_type": "markdown",
   "metadata": {},
   "source": [
    "Graphs\n",
    "---------\n"
   ]
  },
  {
   "cell_type": "code",
   "execution_count": 1,
   "metadata": {},
   "outputs": [],
   "source": [
    "class Graph:\n",
    "\n",
    "    def __init__(self, size):\n",
    "        self.adj_matrix = [[0] * size for _ in range(size)]\n",
    "        self.size = size\n",
    "        self.vertex_data = [''] * size\n",
    "\n",
    "    def add_edge(self, u, v):\n",
    "        if 0 <= u < self.size and 0 <= v < self.size:\n",
    "            self.adj_matrix[u][v] = 1\n",
    "            self.adj_matrix[v][u] = 1\n",
    "\n",
    "    def add_vertex_data(self, vertex, data):\n",
    "        if 0 <= vertex < self.size:\n",
    "            self.vertex_data[vertex] = data\n",
    "\n",
    "    def print_graph(self):\n",
    "        print(\"Adjacency Matrix:\")\n",
    "        for row in self.adj_matrix:\n",
    "            print(' '.join(map(str, row)))\n",
    "        print(\"\\nVertex Data:\")\n",
    "        for vertex, data in enumerate(self.vertex_data):\n",
    "            print(f\"Vertex {vertex}: {data}\")"
   ]
  },
  {
   "cell_type": "code",
   "execution_count": 2,
   "metadata": {},
   "outputs": [
    {
     "name": "stdout",
     "output_type": "stream",
     "text": [
      "Adjacency Matrix:\n",
      "0 0 1 0\n",
      "0 0 0 0\n",
      "1 0 0 0\n",
      "0 0 0 0\n",
      "\n",
      "Vertex Data:\n",
      "Vertex 0: A\n",
      "Vertex 1: B\n",
      "Vertex 2: c\n",
      "Vertex 3: D\n"
     ]
    }
   ],
   "source": [
    "graph = Graph(size=4)\n",
    "\n",
    "graph.add_vertex_data(0, 'A')\n",
    "graph.add_vertex_data(1, 'B')\n",
    "graph.add_vertex_data(2, 'c')\n",
    "graph.add_vertex_data(3, 'D')\n",
    "\n",
    "graph.add_edge(0, 2)  # A - C\n",
    "\n",
    "\n",
    "graph.print_graph()"
   ]
  },
  {
   "cell_type": "markdown",
   "metadata": {},
   "source": [
    "directional and weighted"
   ]
  },
  {
   "cell_type": "code",
   "execution_count": 3,
   "metadata": {},
   "outputs": [],
   "source": [
    "class Graph:\n",
    "\n",
    "    def __init__(self, size):\n",
    "        self.adj_matrix = [[None] * size for _ in range(size)]\n",
    "        self.size = size\n",
    "        self.vertex_data = [''] * size\n",
    "\n",
    "    def add_edge(self, u, v, weight):\n",
    "        if 0 <= u < self.size and 0 <= v < self.size:\n",
    "            self.adj_matrix[u][v] = weight\n",
    "            # self.adj_matrix[v][u] = 1\n",
    "\n",
    "    def add_vertex_data(self, vertex, data):\n",
    "        if 0 <= vertex < self.size:\n",
    "            self.vertex_data[vertex] = data\n",
    "\n",
    "    def print_graph(self):\n",
    "        print(\"Adjacency Matrix:\")\n",
    "        for row in self.adj_matrix:\n",
    "            print(' '.join(map(str, row)))\n",
    "        print(\"\\nVertex Data:\")\n",
    "        for vertex, data in enumerate(self.vertex_data):\n",
    "            print(f\"Vertex {vertex}: {data}\")"
   ]
  },
  {
   "cell_type": "code",
   "execution_count": 4,
   "metadata": {},
   "outputs": [
    {
     "name": "stdout",
     "output_type": "stream",
     "text": [
      "Adjacency Matrix:\n",
      "None None 3 None\n",
      "None 3 None None\n",
      "None None None None\n",
      "None None None None\n",
      "\n",
      "Vertex Data:\n",
      "Vertex 0: A\n",
      "Vertex 1: B\n",
      "Vertex 2: c\n",
      "Vertex 3: D\n"
     ]
    }
   ],
   "source": [
    "graph = Graph(size=4)\n",
    "\n",
    "graph.add_vertex_data(0, 'A')\n",
    "graph.add_vertex_data(1, 'B')\n",
    "graph.add_vertex_data(2, 'c')\n",
    "graph.add_vertex_data(3, 'D')\n",
    "\n",
    "graph.add_edge(0, 2, 3)  # A - C\n",
    "graph.add_edge(1, 1, 3)  # A - C\n",
    "\n",
    "\n",
    "graph.print_graph()"
   ]
  },
  {
   "cell_type": "markdown",
   "metadata": {},
   "source": [
    "Depth first search trasversal"
   ]
  },
  {
   "cell_type": "code",
   "execution_count": 5,
   "metadata": {},
   "outputs": [],
   "source": [
    "class Graph:\n",
    "\n",
    "    def __init__(self, size):\n",
    "        self.adj_matrix = [[0] * size for _ in range(size)]\n",
    "        self.size = size\n",
    "        self.vertex_data = [''] * size\n",
    "\n",
    "    def add_edge(self, u, v):\n",
    "        if 0 <= u < self.size and 0 <= v < self.size:\n",
    "            self.adj_matrix[u][v] = 1\n",
    "            self.adj_matrix[v][u] = 1\n",
    "\n",
    "    def add_vertex_data(self, vertex, data):\n",
    "        if 0 <= vertex < self.size:\n",
    "            self.vertex_data[vertex] = data\n",
    "\n",
    "    def print_graph(self):\n",
    "        print(\"Adjacency Matrix:\")\n",
    "        for row in self.adj_matrix:\n",
    "            print(' '.join(map(str, row)))\n",
    "        print(\"\\nVertex Data:\")\n",
    "        for vertex, data in enumerate(self.vertex_data):\n",
    "            print(f\"Vertex {vertex}: {data}\")\n",
    "\n",
    "    def dfs_util(self, v, visited):\n",
    "        visited[v] = True\n",
    "        print(self.vertex_data[v], end=' ')\n",
    "\n",
    "        for i in range(self.size):\n",
    "            if self.adj_matrix[v][i] == 1 and not visited[i]:\n",
    "                self.dfs_util(i, visited)\n",
    "\n",
    "    def dfs(self, start_vertex_data):\n",
    "        visited = [False] * self.size  # holding the vertex visit status\n",
    "        start_vertex = self.vertex_data.index(start_vertex_data)\n",
    "        self.dfs_util(start_vertex, visited)"
   ]
  },
  {
   "cell_type": "code",
   "execution_count": 6,
   "metadata": {},
   "outputs": [
    {
     "name": "stdout",
     "output_type": "stream",
     "text": [
      "Adjacency Matrix:\n",
      "0 0 1 1 1 0 0\n",
      "0 0 1 0 0 1 0\n",
      "1 1 0 0 1 1 1\n",
      "1 0 0 0 0 0 0\n",
      "1 0 1 0 0 0 0\n",
      "0 1 1 0 0 0 0\n",
      "0 0 1 0 0 0 0\n",
      "\n",
      "Vertex Data:\n",
      "Vertex 0: A\n",
      "Vertex 1: B\n",
      "Vertex 2: C\n",
      "Vertex 3: D\n",
      "Vertex 4: E\n",
      "Vertex 5: F\n",
      "Vertex 6: G\n",
      "\n",
      "Depth First Search starting from vertex C:\n",
      "C A D E B F G "
     ]
    }
   ],
   "source": [
    "graph = Graph(7)\n",
    "\n",
    "graph.add_vertex_data(0, 'A')\n",
    "graph.add_vertex_data(1, 'B')\n",
    "graph.add_vertex_data(2, 'C')\n",
    "graph.add_vertex_data(3, 'D')\n",
    "graph.add_vertex_data(4, 'E')\n",
    "graph.add_vertex_data(5, 'F')\n",
    "graph.add_vertex_data(6, 'G')\n",
    "\n",
    "\n",
    "graph.add_edge(3, 0)  # D - A\n",
    "graph.add_edge(0, 2)  # A - C\n",
    "graph.add_edge(0, 3)  # A - D\n",
    "graph.add_edge(0, 4)  # A - E\n",
    "graph.add_edge(4, 2)  # E - C\n",
    "graph.add_edge(2, 5)  # C - F\n",
    "graph.add_edge(2, 1)  # C - B\n",
    "graph.add_edge(2, 6)  # C - G\n",
    "graph.add_edge(1, 5)  # B - F\n",
    "\n",
    "graph.print_graph()\n",
    "\n",
    "print(\"\\nDepth First Search starting from vertex C:\")\n",
    "graph.dfs('C')"
   ]
  }
 ],
 "metadata": {
  "kernelspec": {
   "display_name": "base",
   "language": "python",
   "name": "python3"
  },
  "language_info": {
   "codemirror_mode": {
    "name": "ipython",
    "version": 3
   },
   "file_extension": ".py",
   "mimetype": "text/x-python",
   "name": "python",
   "nbconvert_exporter": "python",
   "pygments_lexer": "ipython3",
   "version": "3.12.4"
  }
 },
 "nbformat": 4,
 "nbformat_minor": 2
}
